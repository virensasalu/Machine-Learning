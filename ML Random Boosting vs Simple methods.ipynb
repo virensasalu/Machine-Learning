{
 "cells": [
  {
   "cell_type": "markdown",
   "metadata": {
    "id": "HGf4aDLnYkLz"
   },
   "source": [
    "# Week5 : Tree Based Methods"
   ]
  },
  {
   "cell_type": "markdown",
   "metadata": {
    "id": "Rg9qh3CJYv8L"
   },
   "source": [
    "### Objectives\n",
    "This homework sheet will help reviewing the basic concepts associated with tree-based methods and provide a basic introduction to the ML workflow using real-world datasets. Please review the lectures, suggested readings, and additional resources _before_ getting started on the HW."
   ]
  },
  {
   "cell_type": "markdown",
   "metadata": {
    "id": "3JRnBhvId8KB"
   },
   "source": [
    "**Some questions in this assignment will require you to conduct independent research beyond the material covered in the recorded content.**"
   ]
  },
  {
   "cell_type": "markdown",
   "metadata": {
    "id": "vMr0kAaPY3e7"
   },
   "source": [
    "The following website has access to the relevant datasets from the recommended textbook: https://book.huihoo.com/introduction-to-statistical-learning/data.html"
   ]
  },
  {
   "cell_type": "markdown",
   "metadata": {
    "id": "a1HPI5Kkic4h"
   },
   "source": [
    "Q3. Apply boosting and random forest to a data set of your choice. Feel free to use any of the datasets from ISLR dataset link provided ( https://book.huihoo.com/introduction-to-statistical-learning/data.html ) to examine any of the questions that were discussed in any of the previous homeworks. Be sure to fit the models on a training set and to evaluate their performance on a test set. How accurate are the results compared to simple methods (e.g. linear or logistic regression models)? Which of these approaches yields the best performance?"
   ]
  },
  {
   "cell_type": "markdown",
   "metadata": {},
   "source": [
    "**a) Read the dataset using function read_csv( ) from pandas library and preprocess the data if required ( check for any missing values etc )**\n",
    "\n"
   ]
  },
  {
   "cell_type": "markdown",
   "metadata": {
    "id": "YOaiqXd055F1"
   },
   "source": [
    "#### ANSWER\n",
    "\n"
   ]
  },
  {
   "cell_type": "code",
   "execution_count": 1,
   "metadata": {
    "id": "AXDseudIicUH"
   },
   "outputs": [],
   "source": [
    "import seaborn as sns\n",
    "import pandas as pd\n",
    "import numpy as np\n",
    "import statsmodels.api as sm\n",
    "import seaborn as sns\n",
    "import matplotlib.pyplot as plt\n",
    "from sklearn.model_selection import train_test_split\n",
    "from sklearn.linear_model import LogisticRegression\n",
    "from sklearn.linear_model import LinearRegression\n",
    "from sklearn.metrics import mean_squared_error, r2_score\n",
    "from sklearn.metrics import confusion_matrix, accuracy_score\n",
    "from sklearn.discriminant_analysis import LinearDiscriminantAnalysis\n",
    "from sklearn.discriminant_analysis import QuadraticDiscriminantAnalysis\n",
    "from sklearn.ensemble import GradientBoostingClassifier\n",
    "from sklearn.neighbors import KNeighborsClassifier\n",
    "import warnings\n",
    "warnings.filterwarnings(\"ignore\")\n",
    "from sklearn.ensemble import AdaBoostClassifier, RandomForestClassifier"
   ]
  },
  {
   "cell_type": "code",
   "execution_count": 2,
   "metadata": {},
   "outputs": [
    {
     "data": {
      "text/html": [
       "<div>\n",
       "<style scoped>\n",
       "    .dataframe tbody tr th:only-of-type {\n",
       "        vertical-align: middle;\n",
       "    }\n",
       "\n",
       "    .dataframe tbody tr th {\n",
       "        vertical-align: top;\n",
       "    }\n",
       "\n",
       "    .dataframe thead th {\n",
       "        text-align: right;\n",
       "    }\n",
       "</style>\n",
       "<table border=\"1\" class=\"dataframe\">\n",
       "  <thead>\n",
       "    <tr style=\"text-align: right;\">\n",
       "      <th></th>\n",
       "      <th>mpg</th>\n",
       "      <th>cylinders</th>\n",
       "      <th>displacement</th>\n",
       "      <th>horsepower</th>\n",
       "      <th>weight</th>\n",
       "      <th>acceleration</th>\n",
       "      <th>year</th>\n",
       "      <th>origin</th>\n",
       "      <th>name</th>\n",
       "    </tr>\n",
       "  </thead>\n",
       "  <tbody>\n",
       "    <tr>\n",
       "      <th>0</th>\n",
       "      <td>18.0</td>\n",
       "      <td>8</td>\n",
       "      <td>307.0</td>\n",
       "      <td>130</td>\n",
       "      <td>3504</td>\n",
       "      <td>12.0</td>\n",
       "      <td>70</td>\n",
       "      <td>1</td>\n",
       "      <td>chevrolet chevelle malibu</td>\n",
       "    </tr>\n",
       "    <tr>\n",
       "      <th>1</th>\n",
       "      <td>15.0</td>\n",
       "      <td>8</td>\n",
       "      <td>350.0</td>\n",
       "      <td>165</td>\n",
       "      <td>3693</td>\n",
       "      <td>11.5</td>\n",
       "      <td>70</td>\n",
       "      <td>1</td>\n",
       "      <td>buick skylark 320</td>\n",
       "    </tr>\n",
       "    <tr>\n",
       "      <th>2</th>\n",
       "      <td>18.0</td>\n",
       "      <td>8</td>\n",
       "      <td>318.0</td>\n",
       "      <td>150</td>\n",
       "      <td>3436</td>\n",
       "      <td>11.0</td>\n",
       "      <td>70</td>\n",
       "      <td>1</td>\n",
       "      <td>plymouth satellite</td>\n",
       "    </tr>\n",
       "    <tr>\n",
       "      <th>3</th>\n",
       "      <td>16.0</td>\n",
       "      <td>8</td>\n",
       "      <td>304.0</td>\n",
       "      <td>150</td>\n",
       "      <td>3433</td>\n",
       "      <td>12.0</td>\n",
       "      <td>70</td>\n",
       "      <td>1</td>\n",
       "      <td>amc rebel sst</td>\n",
       "    </tr>\n",
       "    <tr>\n",
       "      <th>4</th>\n",
       "      <td>17.0</td>\n",
       "      <td>8</td>\n",
       "      <td>302.0</td>\n",
       "      <td>140</td>\n",
       "      <td>3449</td>\n",
       "      <td>10.5</td>\n",
       "      <td>70</td>\n",
       "      <td>1</td>\n",
       "      <td>ford torino</td>\n",
       "    </tr>\n",
       "  </tbody>\n",
       "</table>\n",
       "</div>"
      ],
      "text/plain": [
       "    mpg  cylinders  displacement horsepower  weight  acceleration  year  \\\n",
       "0  18.0          8         307.0        130    3504          12.0    70   \n",
       "1  15.0          8         350.0        165    3693          11.5    70   \n",
       "2  18.0          8         318.0        150    3436          11.0    70   \n",
       "3  16.0          8         304.0        150    3433          12.0    70   \n",
       "4  17.0          8         302.0        140    3449          10.5    70   \n",
       "\n",
       "   origin                       name  \n",
       "0       1  chevrolet chevelle malibu  \n",
       "1       1          buick skylark 320  \n",
       "2       1         plymouth satellite  \n",
       "3       1              amc rebel sst  \n",
       "4       1                ford torino  "
      ]
     },
     "execution_count": 2,
     "metadata": {},
     "output_type": "execute_result"
    }
   ],
   "source": [
    "Autodata = pd.read_csv('/Users/virensasalu/Documents/coding/UOA Coding Files/Course 3/Auto_Week4.csv') \n",
    "Autodata.head()"
   ]
  },
  {
   "cell_type": "code",
   "execution_count": 3,
   "metadata": {},
   "outputs": [
    {
     "name": "stdout",
     "output_type": "stream",
     "text": [
      "mpg             0\n",
      "cylinders       0\n",
      "displacement    0\n",
      "horsepower      0\n",
      "weight          0\n",
      "acceleration    0\n",
      "year            0\n",
      "origin          0\n",
      "dtype: int64\n",
      "\n",
      "<class 'pandas.core.frame.DataFrame'>\n",
      "Index: 392 entries, 0 to 396\n",
      "Data columns (total 8 columns):\n",
      " #   Column        Non-Null Count  Dtype  \n",
      "---  ------        --------------  -----  \n",
      " 0   mpg           392 non-null    float64\n",
      " 1   cylinders     392 non-null    int64  \n",
      " 2   displacement  392 non-null    float64\n",
      " 3   horsepower    392 non-null    int64  \n",
      " 4   weight        392 non-null    int64  \n",
      " 5   acceleration  392 non-null    float64\n",
      " 6   year          392 non-null    int64  \n",
      " 7   origin        392 non-null    int64  \n",
      "dtypes: float64(3), int64(5)\n",
      "memory usage: 27.6 KB\n"
     ]
    }
   ],
   "source": [
    "#pre-processing the data\n",
    "ProcessedAutoData = Autodata.copy()\n",
    "#print(ProcessedAutoData.isnull().sum())\n",
    "#upon close exmaination of the dataset, only few data points are missing. So I decided to drop them.\n",
    "#PreProcessedData.info()\n",
    "ProcessedAutoData.replace('?', np.nan, inplace=True)\n",
    "ProcessedAutoData = ProcessedAutoData.dropna()\n",
    "if 'name' in ProcessedAutoData.columns:\n",
    "    ProcessedAutoData = ProcessedAutoData.drop('name', axis=1)\n",
    "\n",
    "non_numeric_columns = ProcessedAutoData.select_dtypes(exclude=[np.number]).columns\n",
    "#print(\"Non-numeric columns:\", non_numeric_columns)\n",
    "ProcessedAutoData['horsepower'] = ProcessedAutoData['horsepower'].astype(int)\n",
    "print(ProcessedAutoData.isnull().sum())\n",
    "print()\n",
    "ProcessedAutoData.head()\n",
    "ProcessedAutoData.info()"
   ]
  },
  {
   "cell_type": "markdown",
   "metadata": {},
   "source": [
    "**Develop a model to predict whether a given car gets high or low gas mileage based on the Auto data set.**"
   ]
  },
  {
   "cell_type": "code",
   "execution_count": 4,
   "metadata": {},
   "outputs": [
    {
     "data": {
      "text/html": [
       "<div>\n",
       "<style scoped>\n",
       "    .dataframe tbody tr th:only-of-type {\n",
       "        vertical-align: middle;\n",
       "    }\n",
       "\n",
       "    .dataframe tbody tr th {\n",
       "        vertical-align: top;\n",
       "    }\n",
       "\n",
       "    .dataframe thead th {\n",
       "        text-align: right;\n",
       "    }\n",
       "</style>\n",
       "<table border=\"1\" class=\"dataframe\">\n",
       "  <thead>\n",
       "    <tr style=\"text-align: right;\">\n",
       "      <th></th>\n",
       "      <th>cylinders</th>\n",
       "      <th>displacement</th>\n",
       "      <th>horsepower</th>\n",
       "      <th>weight</th>\n",
       "      <th>acceleration</th>\n",
       "      <th>year</th>\n",
       "      <th>origin</th>\n",
       "      <th>mpg01</th>\n",
       "    </tr>\n",
       "  </thead>\n",
       "  <tbody>\n",
       "    <tr>\n",
       "      <th>0</th>\n",
       "      <td>8</td>\n",
       "      <td>307.0</td>\n",
       "      <td>130</td>\n",
       "      <td>3504</td>\n",
       "      <td>12.0</td>\n",
       "      <td>70</td>\n",
       "      <td>1</td>\n",
       "      <td>0</td>\n",
       "    </tr>\n",
       "    <tr>\n",
       "      <th>1</th>\n",
       "      <td>8</td>\n",
       "      <td>350.0</td>\n",
       "      <td>165</td>\n",
       "      <td>3693</td>\n",
       "      <td>11.5</td>\n",
       "      <td>70</td>\n",
       "      <td>1</td>\n",
       "      <td>0</td>\n",
       "    </tr>\n",
       "    <tr>\n",
       "      <th>2</th>\n",
       "      <td>8</td>\n",
       "      <td>318.0</td>\n",
       "      <td>150</td>\n",
       "      <td>3436</td>\n",
       "      <td>11.0</td>\n",
       "      <td>70</td>\n",
       "      <td>1</td>\n",
       "      <td>0</td>\n",
       "    </tr>\n",
       "    <tr>\n",
       "      <th>3</th>\n",
       "      <td>8</td>\n",
       "      <td>304.0</td>\n",
       "      <td>150</td>\n",
       "      <td>3433</td>\n",
       "      <td>12.0</td>\n",
       "      <td>70</td>\n",
       "      <td>1</td>\n",
       "      <td>0</td>\n",
       "    </tr>\n",
       "    <tr>\n",
       "      <th>4</th>\n",
       "      <td>8</td>\n",
       "      <td>302.0</td>\n",
       "      <td>140</td>\n",
       "      <td>3449</td>\n",
       "      <td>10.5</td>\n",
       "      <td>70</td>\n",
       "      <td>1</td>\n",
       "      <td>0</td>\n",
       "    </tr>\n",
       "  </tbody>\n",
       "</table>\n",
       "</div>"
      ],
      "text/plain": [
       "   cylinders  displacement  horsepower  weight  acceleration  year  origin  \\\n",
       "0          8         307.0         130    3504          12.0    70       1   \n",
       "1          8         350.0         165    3693          11.5    70       1   \n",
       "2          8         318.0         150    3436          11.0    70       1   \n",
       "3          8         304.0         150    3433          12.0    70       1   \n",
       "4          8         302.0         140    3449          10.5    70       1   \n",
       "\n",
       "   mpg01  \n",
       "0      0  \n",
       "1      0  \n",
       "2      0  \n",
       "3      0  \n",
       "4      0  "
      ]
     },
     "execution_count": 4,
     "metadata": {},
     "output_type": "execute_result"
    }
   ],
   "source": [
    "#I am choosing week 4 question\n",
    "median = ProcessedAutoData['mpg'].median()\n",
    "ProcessedAutoData['mpg01'] = (ProcessedAutoData['mpg'] > median).astype(int)\n",
    "ProcessedAutoData = ProcessedAutoData.drop('mpg', axis=1)\n",
    "ProcessedAutoData.head()"
   ]
  },
  {
   "cell_type": "markdown",
   "metadata": {},
   "source": [
    "**b) Split the data into train data  and test data ( proportion of train and test data of your choice ) Reference :https://scikit-learn.org/stable/modules/generated/sklearn.model_selection.train_test_split.html**"
   ]
  },
  {
   "cell_type": "markdown",
   "metadata": {},
   "source": [
    "##### Selecting only features like cylinders, displacement, horsepower, weight which are likely to be useful in predicting mpg01"
   ]
  },
  {
   "cell_type": "code",
   "execution_count": 5,
   "metadata": {},
   "outputs": [],
   "source": [
    "X = ProcessedAutoData.drop(['mpg01', 'acceleration', 'year', 'origin'], axis=1)\n",
    "y = ProcessedAutoData['mpg01']\n",
    "X_train, X_test, y_train, y_test = train_test_split(X, y, test_size=0.2, random_state=4)"
   ]
  },
  {
   "cell_type": "markdown",
   "metadata": {},
   "source": [
    "**c) Train the data on the below models \n",
    "i) Linear regression model ii) Gradient boosting model iii) Random forest model\n",
    "check the train and test r2 score and mention your findings on which model performed better in terms of underfitting / overfitting etc**"
   ]
  },
  {
   "cell_type": "code",
   "execution_count": 14,
   "metadata": {},
   "outputs": [],
   "source": [
    "#GradientBoost\n",
    "GradientBoost = GradientBoostingClassifier(n_estimators=50, random_state=42)\n",
    "GradientBoost.fit(X_train, y_train)\n",
    "GradientBoostPredictionsTest = GradientBoost.predict(X_test)\n",
    "GradientBoostPredictionsTrain = GradientBoost.predict(X_train)"
   ]
  },
  {
   "cell_type": "code",
   "execution_count": 16,
   "metadata": {},
   "outputs": [
    {
     "name": "stdout",
     "output_type": "stream",
     "text": [
      "GradientBoost (Train) => R-squared: 0.8720987250735535\n",
      "GradientBoost (Train) => Mean Squared Error: 0.03194888178913738\n",
      "\n",
      "GradientBoost (Test) => R-squared: 0.8461038961038961\n",
      "GradientBoost (Test) => Mean Squared Error: 0.0379746835443038\n",
      "\n",
      "GradientBoost accuracy is: 0.9620253164556962\n"
     ]
    }
   ],
   "source": [
    "print('GradientBoost (Train) => R-squared:', r2_score(y_train, GradientBoostPredictionsTrain))\n",
    "print(\"GradientBoost (Train) => Mean Squared Error:\", mean_squared_error(y_train, GradientBoostPredictionsTrain))\n",
    "print()\n",
    "print('GradientBoost (Test) => R-squared:', r2_score(y_test, GradientBoostPredictionsTest))\n",
    "print(\"GradientBoost (Test) => Mean Squared Error:\", mean_squared_error(y_test, GradientBoostPredictionsTest))\n",
    "print()\n",
    "print('GradientBoost accuracy is:', accuracy_score(y_test, GradientBoostPredictionsTest))"
   ]
  },
  {
   "cell_type": "code",
   "execution_count": 8,
   "metadata": {},
   "outputs": [],
   "source": [
    "#Random Forest\n",
    "RandomForest = RandomForestClassifier(n_estimators=50, random_state=42)\n",
    "RandomForest.fit(X_train, y_train)\n",
    "randomForestPredTest = RandomForest.predict(X_test)\n",
    "randomForestPredTrain = RandomForest.predict(X_train)"
   ]
  },
  {
   "cell_type": "code",
   "execution_count": 17,
   "metadata": {},
   "outputs": [
    {
     "name": "stdout",
     "output_type": "stream",
     "text": [
      "RandomForest (Train) => R-squared: 1.0\n",
      "RandomForest (Train) => Mean Squared Error: 0.0\n",
      "\n",
      "RandomForest (Test) => R-squared: 0.6922077922077923\n",
      "RandomForest (Test) => Mean Squared Error: 0.0759493670886076\n",
      "\n",
      "RandomForest accuracy is: 0.9240506329113924\n"
     ]
    }
   ],
   "source": [
    "print('RandomForest (Train) => R-squared:', r2_score(y_train, randomForestPredTrain))\n",
    "print(\"RandomForest (Train) => Mean Squared Error:\", mean_squared_error(y_train, randomForestPredTrain))\n",
    "print()\n",
    "print('RandomForest (Test) => R-squared:', r2_score(y_test, randomForestPredTest))\n",
    "print(\"RandomForest (Test) => Mean Squared Error:\", mean_squared_error(y_test, randomForestPredTest))\n",
    "print()\n",
    "print('RandomForest accuracy is:', accuracy_score(y_test, randomForestPredTest))"
   ]
  },
  {
   "cell_type": "code",
   "execution_count": 10,
   "metadata": {},
   "outputs": [],
   "source": [
    "#LinearRegression\n",
    "LR = LinearRegression()\n",
    "LR.fit(X_train, y_train)\n",
    "LRpredTest = LR.predict(X_test)\n",
    "LRpredTrain = LR.predict(X_train)"
   ]
  },
  {
   "cell_type": "code",
   "execution_count": 20,
   "metadata": {
    "scrolled": true
   },
   "outputs": [
    {
     "name": "stdout",
     "output_type": "stream",
     "text": [
      "LinearRegression (Train) => R-squared: 0.5938883112187037\n",
      "LinearRegression (Train) => Mean Squared Error: 0.10144397970639574\n",
      "\n",
      "LinearRegression (Test) => R-squared: 0.6477463357304059\n",
      "LinearRegression (Test) => Mean Squared Error: 0.08692046835045264\n"
     ]
    }
   ],
   "source": [
    "print('LinearRegression (Train) => R-squared:', r2_score(y_train, LRpredTrain))\n",
    "print(\"LinearRegression (Train) => Mean Squared Error:\", mean_squared_error(y_train, LRpredTrain))\n",
    "print()\n",
    "print('LinearRegression (Test) => R-squared:', r2_score(y_test, LRpredTest))\n",
    "print(\"LinearRegression (Test) => Mean Squared Error:\", mean_squared_error(y_test, LRpredTest))"
   ]
  },
  {
   "cell_type": "markdown",
   "metadata": {},
   "source": [
    "- Gradient Boosting appears to be the most balanced model, providing good generalization to the test set without overfitting or underfitting.\n",
    "- Random Forest exhibits signs of overfitting on the training set, as evidenced by the perfect R-squared, and its performance on the test set is not as strong as Gradient Boosting.\n",
    "- Linear Regression performs decently but may not capture the underlying patterns as well as the ensemble methods. It shows some overfitting as the test set performance is slightly worse than the training set."
   ]
  }
 ],
 "metadata": {
  "colab": {
   "provenance": []
  },
  "kernelspec": {
   "display_name": "Python 3 (ipykernel)",
   "language": "python",
   "name": "python3"
  },
  "language_info": {
   "codemirror_mode": {
    "name": "ipython",
    "version": 3
   },
   "file_extension": ".py",
   "mimetype": "text/x-python",
   "name": "python",
   "nbconvert_exporter": "python",
   "pygments_lexer": "ipython3",
   "version": "3.10.13"
  }
 },
 "nbformat": 4,
 "nbformat_minor": 1
}
