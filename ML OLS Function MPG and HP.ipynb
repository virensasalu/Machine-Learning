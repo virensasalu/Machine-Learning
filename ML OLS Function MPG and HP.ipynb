{
 "cells": [
  {
   "cell_type": "markdown",
   "metadata": {
    "id": "RztTuHNRd1-a"
   },
   "source": [
    "# WEEK2: Resampling Methods"
   ]
  },
  {
   "cell_type": "markdown",
   "metadata": {
    "id": "G4ZhCI5PJtrO"
   },
   "source": [
    "# Objective"
   ]
  },
  {
   "cell_type": "markdown",
   "metadata": {
    "id": "3a2z43jfJwUY"
   },
   "source": [
    "This homework sheet will help reviewing the basic concepts associated with model selection and regularization. Please review the lectures, suggested readings, and additional resources _before_ getting started on the HW."
   ]
  },
  {
   "cell_type": "markdown",
   "metadata": {
    "id": "iwhWEDxUeICJ"
   },
   "source": [
    "**Some questions in this assignment will require you to conduct independent research beyond the material covered in the recorded content.**"
   ]
  },
  {
   "cell_type": "markdown",
   "metadata": {
    "id": "UrLG-psXJ7Rw"
   },
   "source": [
    "**Questions**\n",
    "\n",
    " This homework is divided into two main parts. First, a conceptual component will review the basic concepts related to resampling. The second part of the homework is mostly intended to be a brief introduction to regularization methods and resampling in python . Several of these questions are modified from James et al. (2021)."
   ]
  },
  {
   "cell_type": "markdown",
   "metadata": {
    "id": "PmqLj5qMeQdT"
   },
   "source": [
    "Marks Distribution"
   ]
  },
  {
   "cell_type": "markdown",
   "metadata": {
    "id": "TyEe9srieW8r"
   },
   "source": [
    "| Question      | Marks |\n",
    "| ----------- | ----------- |\n",
    "| Q1a    | 1     |\n",
    "| Q1b    | 0.50      |\n",
    "| Q1c   | 1      |\n",
    "| Q1d     | 0.50      |\n",
    "| Q1e     | 0.50     |\n",
    "| Q1f    | 0.50    |\n",
    "| Q2a    | 1     |\n",
    "| Q2b    | 1      |\n",
    "| Q2c   | 1      |\n",
    "| Q2d     | 1      |\n",
    "| Q3a   | 1    |\n",
    "| Q3b     | 1      |\n",
    "| Q4     | 1      |\n",
    "| Q5a    | 1    |\n",
    "| Q5b    | 1     |\n",
    "| Q5c   | 1     |\n",
    "| Q5d     | 1      |"
   ]
  },
  {
   "cell_type": "markdown",
   "metadata": {
    "id": "HSAHcEeQJ9Fs"
   },
   "source": [
    "# Conceptual"
   ]
  },
  {
   "cell_type": "markdown",
   "metadata": {
    "id": "dhRS_zVwKM8m"
   },
   "source": [
    "##  Q1. We will derive the probability that a given observation is part of a bootstrap sample. Suppose that we obtain a bootstrap sample from a set of `n` observations. **Please note that samples are obtained with replacement**."
   ]
  },
  {
   "cell_type": "markdown",
   "metadata": {
    "id": "7gy8fX2tpS79"
   },
   "source": [
    "### a) What is the probability that the first bootstrap observation is not the $jth$ observation from the original sample? Justify your answer."
   ]
  },
  {
   "cell_type": "markdown",
   "metadata": {
    "id": "V2wd-2DJuYJX"
   },
   "source": [
    "- Since there is an equal probobility of any of the n observations being selected, the probability that the jth observation is selected as the first bootstrap observation is 1/n.\n",
    "\n",
    "- Therefore the probability that the jth observation is not the first bootstrap observation is 1−(1/n)."
   ]
  },
  {
   "cell_type": "markdown",
   "metadata": {
    "id": "ekeUZKAaufvk"
   },
   "source": [
    "### b) What is the probability that the second bootstrap observation is not the $jth$ observation from the original sample?\n",
    "\n"
   ]
  },
  {
   "cell_type": "markdown",
   "metadata": {
    "id": "N-j_koZDrvhz"
   },
   "source": [
    "- Since bootstrap sampling is sampling with replacment, this is the same as the part a) - each of the n observations has probability 1n of being selected, so the probability is still 1−(1/n)\n",
    "- The probability remains the same for each position in the bootstrap samplw because the selections are independent and each observation has the same probability of being chosen at each draw."
   ]
  },
  {
   "cell_type": "markdown",
   "metadata": {
    "id": "w7XSUDdGulBi"
   },
   "source": [
    "###  c) Argue that the probability that the $jth$ observation is not in the bootstrap sample is $(1 − 1/n)^n$."
   ]
  },
  {
   "cell_type": "markdown",
   "metadata": {
    "id": "oVkgOBX_tDDq"
   },
   "source": [
    "- The probability of not selecting the jth observation is (1 - 1/n), and this probability remains constant for each draw because each draw is independent.\n",
    "\n",
    "- So, for one draw, the probability of not selecting the jth observation is (1 - 1/n).\n",
    "\n",
    "- Now, because the draws are independent, we can calculate the probability that the jth observation is not selected in all n draws by multiplying the individual probabilities for each draw:\n",
    "    (1 - 1/n) * (1 - 1/n) * (1 - 1/n) * ... * (1 - 1/n) (n times)\n",
    "\n",
    "- This can be expressed using exponentiation:\n",
    "    (1 - 1/n)^n\n",
    "\n",
    "- So, the probability that the jth observation is not in the bootstrap sample after n draws is indeed (1 - (1/n))^n."
   ]
  },
  {
   "cell_type": "markdown",
   "metadata": {
    "id": "dc370xrFupXo"
   },
   "source": [
    "###  d) When `n = 5`, what is the probability that the $jth$ observation is in the bootstrap sample?"
   ]
  },
  {
   "cell_type": "markdown",
   "metadata": {
    "id": "J5juavMztOI7"
   },
   "source": [
    "- the probability of not selecting the jth observation in a single draw is (1 - 1/n), and in this case, n = 5. So, the probability of not selecting the jth observation in a single draw is:\n",
    "    (1 - 1/5) = 4/5\n",
    "- Since the draws are independent, we can calculate the probability that the jth observation is not in the bootstrap sample for all n draws by raising this probability to the power of n:\n",
    "    (4/5)^5\n",
    "- Now, to find the probability that the jth observation is in the bootstrap sample, we take the complement of the probability that it's not in the sample:\n",
    "    1 - (4/5)^5 ≈ 0.4096 That is 40.96%"
   ]
  },
  {
   "cell_type": "markdown",
   "metadata": {
    "id": "hgp34gdCkzRb"
   },
   "source": [
    "### e) When `n = 100`, what is the probability that the $jth$ observation is in the bootstrap sample?"
   ]
  },
  {
   "cell_type": "markdown",
   "metadata": {
    "id": "uFx80ZiUrNOl"
   },
   "source": [
    "- Similar to the above...\n",
    "    1-(1 - 1/100)^100 = 1- (99/100)^100 ≈0.99\n",
    "- when n is large, such as n = 100, the probability that the jth observation is in the bootstrap sample is extremely close to 1, which means it's almost certain that the jth observation will be in the sample."
   ]
  },
  {
   "cell_type": "markdown",
   "metadata": {
    "id": "Fml00xhEr1t-"
   },
   "source": [
    "### f) When `n = 1000`, what is the probability that the $jth$ observation is in the bootstrap sample?\n"
   ]
  },
  {
   "cell_type": "markdown",
   "metadata": {
    "id": "9Jtododpr8GH"
   },
   "source": [
    "- Similar to the above...\n",
    "     1- (1- 1/1000)^1000 = 1- (999/1000)^1000 ≈ 0.999\n",
    "- when n is large, such as n = 1000, the probability that the jth observation is in the bootstrap sample is extremely close to 1, which means it's almost certain that the jth observation will be in the sample.\n"
   ]
  },
  {
   "cell_type": "markdown",
   "metadata": {
    "id": "xnw4bPR4uQgy"
   },
   "source": [
    "## Q2)\n",
    "The following questions are relative to k-fold cross-validation."
   ]
  },
  {
   "cell_type": "markdown",
   "metadata": {
    "id": "L_KugOLmuuH7"
   },
   "source": [
    "### a) Explain how k-fold cross-validation is implemented.\n"
   ]
  },
  {
   "cell_type": "markdown",
   "metadata": {
    "id": "hA1M81a-uAQV"
   },
   "source": [
    "The data is segmented into k distinct, (usually) equal-sized ‘folds’. A model is trained on k−1 of the folds and tested on the remaining fold. This process is repeated k times, such that each of the k folds acts as the test data once. The test performance is recorded and averaged, giving the ‘cross-validation’ or ‘out-of-sample’ metric."
   ]
  },
  {
   "cell_type": "markdown",
   "metadata": {
    "id": "0mWYYql2uVOV"
   },
   "source": [
    "### b) How would you choose the analyzed k? Does that matter?"
   ]
  },
  {
   "cell_type": "markdown",
   "metadata": {
    "id": "h92wGq8qxRaK"
   },
   "source": [
    "- Yes, Choosing analyzed K is important.\n",
    "- Dataset Size: If you have a large dataset, you can use a larger value of k, such as 10-fold or 5-fold cross-validation. With a smaller datasey, it's better to use smaller values of k, such as 3-fold or 4-fold. The idea is to ensure that each fold has a sufficient number of samples for meaningful evaluation.\n",
    "- Bias-Variance Trade-off: Smaller values of k can provide a more pessimistic estimate of the model's performance because each fold has a larger portion of the data. This can help detect overfittinh more effectively. On the other hand, larger values of k can give you a more optimistic estimate of the model's performance because they are closer to leave-one-out cross-validation. The choice of k should consider the bias-variance trade-off; a larger k might lead to more optimistic estimates of performance.\n",
    "- Data Distribution: If data is imbalanced, shoulf want to consider stratified cross-validation, which ensures that each fold maintains the same class distrbution as the entire dataset. In such cases, the choice of k should still be meaningful for each class."
   ]
  },
  {
   "cell_type": "markdown",
   "metadata": {
    "id": "7_mY8zwiyr0a"
   },
   "source": [
    "### c) What are the advantages and disadvantages of k-fold cross-validation relative to: *The validation set* approach?\n"
   ]
  },
  {
   "cell_type": "markdown",
   "metadata": {
    "id": "9hQ1d-2fxsCB"
   },
   "source": [
    "####  The Validation Set Approach\n",
    "- Advantages:\n",
    "\n",
    "    - k-fold CV has much lower variability than the validation set approach, particularly for smaller datasets. With a validation set, the fact that the data is partitioned only once means that a particular partition can make a model seem more or less favorable, so things like model selection and tuning can be highly dependent on what observations were included in the train and test datasets\n",
    "    - All the data is used to both train and test model performance\n",
    "    - The validation set approach can over-estimate the test error when compared to a model that is fit on the entire dataset, since most models will improve with increased data, and a large proportion is omitted completely from training\n",
    "    \n",
    "- Disadvantages:\n",
    "\n",
    "    - The validation set approach is conceptually easier to grasp, which can be useful in industry when explaining to stakeholders how models were tested\n",
    "    - The validation set approach has a computational advantage - a model is trained once and tested once. In k-fold CV, k models will be trained, and for standard values of k (e.g. 5, 10) these training datasets will also usually be larger than those used in the validation approach. This all means that k-fold CV can be far more time consuming for large data and for large values of k\n"
   ]
  },
  {
   "cell_type": "markdown",
   "metadata": {
    "id": "VS2s6Jz23i5d"
   },
   "source": [
    "### d)  What are the advantages and disadvantages of k-fold cross-validation relative to: *LOOCV*?"
   ]
  },
  {
   "cell_type": "markdown",
   "metadata": {
    "id": "FGYQZ87y729n"
   },
   "source": [
    "#### LOOCV(Leave One Out Cross-Validation)\n",
    "- Advantages:\n",
    "    - k-fold CV scales better and is much less computationally demanding for common values of k (e.g. 5, 10). k-fold CV is the same as LOOCV when k = n, but take for example a situation where k = 10 and n = 10,000, k-fold CV will fit 10 models, whereas LOOCV will fit 10,000\n",
    "    - The bias-variance tradeoff - The k-fold CV can give a more accurate estimate of the test error rate than LOOCV due to the bias-variance trade-off (LOOCV has lower bias but higher variance). I was having my trouble wrapping my head around why k-fold CV is favored in the trade-off between bias and variance, and stumbled upon this discussion which is worth reading, as whether this is true or not seems to be very much so a topic of active debate\n",
    "\n",
    "- Disadvantages:\n",
    "\n",
    "    - Like the validation set approach, there is an element of randomness to k-fold CV, in that there will be some variation in the out-of-sample error based on how the data was split into k folds. LOOCV does not have this randomness\n",
    "    - In some cases, LOOCV can actually require less computational power than k-fold CV"
   ]
  },
  {
   "cell_type": "markdown",
   "metadata": {
    "id": "5HVFDHDqS5dT"
   },
   "source": [
    "# Applied"
   ]
  },
  {
   "cell_type": "markdown",
   "metadata": {
    "id": "vZxb-dffwoc7"
   },
   "source": [
    "We have to use college dataset to answer the questions given in the notebook"
   ]
  },
  {
   "cell_type": "markdown",
   "metadata": {
    "id": "08u7KItt3nTz"
   },
   "source": [
    "## Q3)"
   ]
  },
  {
   "cell_type": "markdown",
   "metadata": {
    "id": "QPXoXSVpNE5c"
   },
   "source": [
    "### a) What is the following code supposed to do?"
   ]
  },
  {
   "cell_type": "code",
   "execution_count": 1,
   "metadata": {
    "id": "pv3RUA5OrUqK"
   },
   "outputs": [
    {
     "ename": "NameError",
     "evalue": "name 'x_test_poly' is not defined",
     "output_type": "error",
     "traceback": [
      "\u001b[0;31m---------------------------------------------------------------------------\u001b[0m",
      "\u001b[0;31mNameError\u001b[0m                                 Traceback (most recent call last)",
      "Cell \u001b[0;32mIn[1], line 44\u001b[0m\n\u001b[1;32m     41\u001b[0m     \u001b[38;5;66;03m#x_test_poly = poly.fit_transform(x_test.reshape(-1, 1))\u001b[39;00m\n\u001b[1;32m     42\u001b[0m     x_train_poly \u001b[38;5;241m=\u001b[39m poly\u001b[38;5;241m.\u001b[39mfit_transform(x_train\u001b[38;5;241m.\u001b[39mvalues\u001b[38;5;241m.\u001b[39mreshape(\u001b[38;5;241m-\u001b[39m\u001b[38;5;241m1\u001b[39m, \u001b[38;5;241m1\u001b[39m))\n\u001b[0;32m---> 44\u001b[0m     y_hat[test_index] \u001b[38;5;241m=\u001b[39m lin_reg\u001b[38;5;241m.\u001b[39mpredict(\u001b[43mx_test_poly\u001b[49m)\n\u001b[1;32m     46\u001b[0m \u001b[38;5;66;03m# Get the MSE estimate\u001b[39;00m\n\u001b[1;32m     47\u001b[0m mse_estimate \u001b[38;5;241m=\u001b[39m np\u001b[38;5;241m.\u001b[39mmean((y_hat \u001b[38;5;241m-\u001b[39m data[\u001b[38;5;124m'\u001b[39m\u001b[38;5;124my\u001b[39m\u001b[38;5;124m'\u001b[39m])\u001b[38;5;241m*\u001b[39m\u001b[38;5;241m*\u001b[39m\u001b[38;5;241m2\u001b[39m)\n",
      "\u001b[0;31mNameError\u001b[0m: name 'x_test_poly' is not defined"
     ]
    }
   ],
   "source": [
    "import numpy as np\n",
    "import pandas as pd\n",
    "from sklearn.linear_model import LinearRegression\n",
    "from sklearn.preprocessing import PolynomialFeatures\n",
    "from sklearn.model_selection import KFold\n",
    "import matplotlib.pyplot as plt\n",
    "\n",
    "# Define constants\n",
    "N = 100\n",
    "ORDER = 2\n",
    "N_FOLDS = 20\n",
    "POLY_DEGREE = np.arange(1, 11)\n",
    "N_REPLICATES = 10\n",
    "\n",
    "# Set random seed for reproducibility\n",
    "np.random.seed(123)\n",
    "\n",
    "# Generate simulated data\n",
    "x = np.random.uniform(low=-4, high=4, size=N)\n",
    "y = np.random.normal(loc=x**ORDER, scale=0.25, size=N)\n",
    "data = pd.DataFrame({'x': x, 'y': y})\n",
    "\n",
    "# Run multiple replicates and average the MSE estimates\n",
    "mse_estimates = np.zeros((N_REPLICATES, len(POLY_DEGREE)))\n",
    "for r in range(N_REPLICATES):\n",
    "    kf = KFold(n_splits=N_FOLDS, shuffle=True)\n",
    "    indices = [(train_index, test_index) for train_index, test_index in kf.split(data)]\n",
    "    for q_idx, q in enumerate(POLY_DEGREE):\n",
    "        y_hat = np.zeros(N)\n",
    "        for train_index, test_index in indices:\n",
    "            # Fit on K-1 folds\n",
    "            x_train, y_train = data.iloc[train_index]['x'], data.iloc[train_index]['y']\n",
    "            poly = PolynomialFeatures(degree=q)\n",
    "            #x_train_poly = poly.fit_transform(x_train.reshape(-1, 1))\n",
    "            x_train_poly = poly.fit_transform(x_train.values.reshape(-1, 1))\n",
    "            lin_reg = LinearRegression()\n",
    "            lin_reg.fit(x_train_poly, y_train)\n",
    "\n",
    "            # Predict on the kth fold\n",
    "            x_test = data.iloc[test_index]['x']\n",
    "            #x_test_poly = poly.fit_transform(x_test.reshape(-1, 1))\n",
    "            x_train_poly = poly.fit_transform(x_train.values.reshape(-1, 1))\n",
    "\n",
    "            y_hat[test_index] = lin_reg.predict(x_test_poly)\n",
    "\n",
    "        # Get the MSE estimate\n",
    "        mse_estimate = np.mean((y_hat - data['y'])**2)\n",
    "        mse_estimates[r, q_idx] = mse_estimate\n",
    "\n",
    "# Average the MSE estimates across replicates\n",
    "mse_mean = np.mean(mse_estimates, axis=0)\n",
    "mse_std = np.std(mse_estimates, axis=0)"
   ]
  },
  {
   "cell_type": "markdown",
   "metadata": {
    "id": "DoI7d3EYj6L2"
   },
   "source": [
    "- The code is performing a simulation to estimate the Mean Squared Error (MSE) of polynomial regression models of various degrees using k-fold cross-validation.\n",
    "- It is designed to assess the performance of polynomial regression models of varying degrees using k-fold cross-validation on simulated data.\n",
    "- It provides estimates of the MSE for each degree of the polynomial and replicates the process to obtain a more robust assessment of model performance.\n",
    "\n",
    "#### In Detail: \n",
    "- The code imports all the necessary libray\n",
    "-  Defines various constants and parameters, including the number of data points (N), the order of the polynomial (ORDER), the number of folds for cross-validation (N_FOLDS), a range of polynomial degrees to consider (POLY_DEGREE), and the number of replicates (N_REPLICATES).\n",
    "- It sets a random seed for reprodcibility.\n",
    "- It generates simulated data for 'x' using random values from a uniform distrbution between -4 and 4.\n",
    "- It generates 'y' values that are normally distributed around x raised to the power of ORDER with a standard deviatuon of 0.25.\n",
    "- The data is organized into a Pandas DataFrame.\n",
    "- It runs multiple replicates (N_REPLICATES) to simulate the process multiple times.\n",
    "- For each replicate, it performs k-fold cross-validation (N_FOLDS) with shufling.\n",
    "- Within each fold, it fits polynomial regression models of different degrees (specified in POLY_DEGREE) on the training data.\n",
    "- It calculates the MSE for each degree of polynomial and stores the results in mse_estimates.\n",
    "- For each replicate and each degree of polynomial, it calculstes the MSE estimate by comparing the predicted values (y_hat) to the true 'y' values in the dataset.\n",
    "- It stores these MSE estimates in mse_estimates for further analysis.\n",
    "- After completing all replicates, it calculates the mean and standard deviation of the MSE estimates for each polynomial degree across replicates.\n",
    "- The mean MSE (mse_mean) and the standard deviation (mse_std) are used to analyze the performance of the different polynomial degrees."
   ]
  },
  {
   "cell_type": "markdown",
   "metadata": {
    "id": "aOwxNWf_NcOO"
   },
   "source": [
    " ### b) To the best of your knowledge, improve the structure, content, clarity, and reproducibility of the code presented before in \"part a\" of this question (e.g. would you run a single or multiple replicates?). Fix any mistakes (if you find any). Finally, generate at least two plots summarizing your findings regarding the best-fitting polynomial order on the simulated dataset (also from \"part a\"): (1) MSE vs polynomial order, and (2) x vs y, along with a plot of the selected model."
   ]
  },
  {
   "cell_type": "markdown",
   "metadata": {},
   "source": [
    "#### Corrected Code"
   ]
  },
  {
   "cell_type": "code",
   "execution_count": 2,
   "metadata": {
    "id": "lv3xMCqlqqaC"
   },
   "outputs": [],
   "source": [
    "import numpy as np\n",
    "import pandas as pd\n",
    "from sklearn.linear_model import LinearRegression\n",
    "from sklearn.preprocessing import PolynomialFeatures\n",
    "from sklearn.model_selection import KFold\n",
    "import matplotlib.pyplot as plt\n",
    "import numpy as np\n",
    "from numpy.random import default_rng\n",
    "import scipy.stats as stats\n",
    "\n",
    "N = 100\n",
    "ORDER = 2\n",
    "N_FOLDS = 20\n",
    "POLY_DEGREE = np.arange(1, 11)\n",
    "N_REPLICATES = 10\n",
    "\n",
    "\n",
    "np.random.seed(123)\n",
    "\n",
    "\n",
    "x = np.random.uniform(low=-4, high=4, size=N)\n",
    "y = np.random.normal(loc=x**ORDER, scale=0.25, size=N)\n",
    "data = pd.DataFrame({'x': x, 'y': y})\n",
    "\n",
    "\n",
    "mse_estimates = np.zeros((N_REPLICATES, len(POLY_DEGREE)))\n",
    "for r in range(N_REPLICATES):\n",
    "    kf = KFold(n_splits=N_FOLDS, shuffle=True)\n",
    "    indices = [(train_index, test_index) for train_index, test_index in kf.split(data)]\n",
    "    for q_idx, q in enumerate(POLY_DEGREE):\n",
    "        y_hat = np.zeros(N)\n",
    "        for train_index, test_index in indices:\n",
    "\n",
    "            x_train, y_train = data.iloc[train_index]['x'], data.iloc[train_index]['y']\n",
    "            poly = PolynomialFeatures(degree=q)\n",
    "            x_train_poly = poly.fit_transform(x_train.values.reshape(-1, 1))\n",
    "            lin_reg = LinearRegression()\n",
    "            lin_reg.fit(x_train_poly, y_train)\n",
    "\n",
    "\n",
    "            x_test = data.iloc[test_index]['x']\n",
    "            x_test_poly = poly.transform(x_test.values.reshape(-1, 1))  # Corrected line\n",
    "\n",
    "            y_hat[test_index] = lin_reg.predict(x_test_poly)\n",
    "\n",
    "\n",
    "        mse_estimate = np.mean((y_hat - data['y'])**2)\n",
    "        mse_estimates[r, q_idx] = mse_estimate\n",
    "\n",
    "\n",
    "mse_mean = np.mean(mse_estimates, axis=0)\n",
    "mse_std = np.std(mse_estimates, axis=0)"
   ]
  },
  {
   "cell_type": "code",
   "execution_count": 3,
   "metadata": {},
   "outputs": [
    {
     "name": "stdout",
     "output_type": "stream",
     "text": [
      "[[19.18218846  0.06502134  0.06587606  0.06710558  0.06736918  0.06840604\n",
      "   0.07077786  0.07303699  0.07605563  0.08877448]\n",
      " [18.99355375  0.06274267  0.06351454  0.06477176  0.06476364  0.06493715\n",
      "   0.06650134  0.06784393  0.07551536  0.09794657]\n",
      " [18.43620643  0.06428447  0.06536627  0.06646923  0.06628624  0.0671188\n",
      "   0.06834192  0.07021692  0.07357241  0.08898855]\n",
      " [19.04962378  0.06431642  0.06526444  0.06600953  0.06601502  0.06686957\n",
      "   0.06846578  0.06974876  0.07294778  0.08008873]\n",
      " [19.05814627  0.06471524  0.06744094  0.06954887  0.0668894   0.06946773\n",
      "   0.07350579  0.07128604  0.07708474  0.08783117]\n",
      " [18.53855644  0.06296416  0.06466111  0.0658177   0.06628871  0.06655085\n",
      "   0.06736665  0.06815572  0.07064499  0.08304606]\n",
      " [18.99223406  0.06292968  0.06426347  0.06519056  0.06492767  0.06516544\n",
      "   0.06635322  0.06808933  0.06996018  0.08735523]\n",
      " [18.73759629  0.06416727  0.06522567  0.06640444  0.0663609   0.0673678\n",
      "   0.06807252  0.06919908  0.07152773  0.08536671]\n",
      " [18.76233947  0.06427076  0.06613925  0.06704061  0.06715062  0.06732328\n",
      "   0.06989802  0.07156704  0.07468733  0.08894511]\n",
      " [19.34368848  0.06380639  0.06520497  0.06623608  0.06746176  0.06796777\n",
      "   0.06942366  0.07006683  0.0796138   0.10424632]]\n"
     ]
    }
   ],
   "source": [
    "print(mse_estimates)"
   ]
  },
  {
   "cell_type": "markdown",
   "metadata": {},
   "source": [
    "#### Key improvements and changes in this code:\n",
    "\n",
    "- Removed the concept of replicates for simplicity. It now performs k-fold cross-validation for a single replicate. If we want to incorporate multiple replicates, we can wrap this code in an additional loop.\n",
    "- Organized the code into a structured sequence that performs cross-validation for each polynomial degree and calculates the mean and standard deviation of the MSE for each degree.\n",
    "- Added print statements to display the mean MSE and standard deviation for each polynomial degree, providing more clarity on the results.\n",
    "- Adjusted the number of folds (N_FOLDS) to 10, which is a popular choice for cross-validation, in my opion."
   ]
  },
  {
   "cell_type": "code",
   "execution_count": 4,
   "metadata": {},
   "outputs": [
    {
     "name": "stdout",
     "output_type": "stream",
     "text": [
      "Degree 1: Mean MSE = 18.6328, Std Dev MSE = 8.9024\n",
      "Degree 2: Mean MSE = 0.0635, Std Dev MSE = 0.0291\n",
      "Degree 3: Mean MSE = 0.0634, Std Dev MSE = 0.0296\n",
      "Degree 4: Mean MSE = 0.0697, Std Dev MSE = 0.0354\n",
      "Degree 5: Mean MSE = 0.0678, Std Dev MSE = 0.0278\n",
      "Degree 6: Mean MSE = 0.0657, Std Dev MSE = 0.0194\n",
      "Degree 7: Mean MSE = 0.0672, Std Dev MSE = 0.0261\n",
      "Degree 8: Mean MSE = 0.0672, Std Dev MSE = 0.0298\n",
      "Degree 9: Mean MSE = 0.0776, Std Dev MSE = 0.0262\n",
      "Degree 10: Mean MSE = 0.1121, Std Dev MSE = 0.1075\n"
     ]
    }
   ],
   "source": [
    "N = 100          \n",
    "ORDER = 2         \n",
    "N_FOLDS = 10\n",
    "POLY_DEGREE = np.arange(1, 11)\n",
    "np.random.seed(123)\n",
    "\n",
    "x = np.random.uniform(low=-4, high=4, size=N)\n",
    "y = np.random.normal(loc=x**ORDER, scale=0.25, size=N)\n",
    "data = pd.DataFrame({'x': x, 'y': y})\n",
    "\n",
    "mse_mean = np.zeros(len(POLY_DEGREE))\n",
    "mse_std = np.zeros(len(POLY_DEGREE))\n",
    "\n",
    "\n",
    "for q_idx, q in enumerate(POLY_DEGREE):\n",
    "    kf = KFold(n_splits=N_FOLDS, shuffle=True)\n",
    "    mse_replicates = np.zeros(N_FOLDS)\n",
    "\n",
    "    for fold_idx, (train_index, test_index) in enumerate(kf.split(data)):\n",
    "        x_train, y_train = data.iloc[train_index]['x'], data.iloc[train_index]['y']\n",
    "        x_test, y_test = data.iloc[test_index]['x'], data.iloc[test_index]['y']\n",
    "\n",
    "        poly = PolynomialFeatures(degree=q)\n",
    "        x_train_poly = poly.fit_transform(x_train.values.reshape(-1, 1))\n",
    "        lin_reg = LinearRegression()\n",
    "        lin_reg.fit(x_train_poly, y_train)\n",
    "\n",
    "        x_test_poly = poly.transform(x_test.values.reshape(-1, 1))\n",
    "        y_pred = lin_reg.predict(x_test_poly)\n",
    "\n",
    "        mse_replicates[fold_idx] = np.mean((y_pred - y_test)**2)\n",
    "\n",
    "    mse_mean[q_idx] = np.mean(mse_replicates)\n",
    "    mse_std[q_idx] = np.std(mse_replicates)\n",
    "    \n",
    "#print(mse_estimates)\n",
    "for q, mean, std in zip(POLY_DEGREE, mse_mean, mse_std):\n",
    "    print(f\"Degree {q}: Mean MSE = {mean:.4f}, Std Dev MSE = {std:.4f}\")"
   ]
  },
  {
   "cell_type": "code",
   "execution_count": 5,
   "metadata": {},
   "outputs": [
    {
     "name": "stdout",
     "output_type": "stream",
     "text": [
      "Best Polynomial Degree: 3\n"
     ]
    },
    {
     "data": {
      "image/png": "[encoded data removed]",
      "text/plain": [
       "<Figure size 1000x500 with 1 Axes>"
      ]
     },
     "metadata": {},
     "output_type": "display_data"
    }
   ],
   "source": [
    "#Plot 1: MSE vs Polynomial Degree\n",
    "plt.figure(figsize=(10, 5))\n",
    "plt.errorbar(POLY_DEGREE, mse_mean, yerr=mse_std, marker='o', linestyle='-', capsize=5)\n",
    "plt.title('MSE vs Polynomial Degree')\n",
    "plt.xlabel('Polynomial Degree --->')\n",
    "plt.ylabel('Mean MSE --->')\n",
    "plt.grid(True)\n",
    "\n",
    "#Finding the best polynomial degree\n",
    "\n",
    "best_degree = POLY_DEGREE[np.argmin(mse_mean)]\n",
    "print(f\"Best Polynomial Degree: {best_degree}\")"
   ]
  },
  {
   "cell_type": "code",
   "execution_count": 7,
   "metadata": {},
   "outputs": [
    {
     "data": {
      "image/png": "[encoded data removed]",
      "text/plain": [
       "<Figure size 1000x500 with 1 Axes>"
      ]
     },
     "metadata": {},
     "output_type": "display_data"
    }
   ],
   "source": [
    "best_poly = PolynomialFeatures(degree=best_degree)\n",
    "x_train_poly = best_poly.fit_transform(x.reshape(-1, 1))\n",
    "best_lin_reg = LinearRegression()\n",
    "best_lin_reg.fit(x_train_poly, y)\n",
    "\n",
    "x_fit = np.linspace(-4, 4, 100)\n",
    "x_fit_poly = best_poly.transform(x_fit.reshape(-1, 1))\n",
    "y_fit = best_lin_reg.predict(x_fit_poly)\n",
    "\n",
    "#Plot 2: Data and Fitted Model\n",
    "plt.figure(figsize=(10, 5))\n",
    "plt.scatter(data['x'], data['y'], label='Data', color='blue')\n",
    "x_fit_poly = best_poly.transform(x_fit.reshape(-1, 1))\n",
    "y_fit = best_lin_reg.predict(x_fit_poly)\n",
    "plt.plot(x_fit, y_fit, label=f'Polynomial Degree {best_degree} Fit', color='red')\n",
    "plt.title('Data and Fitted Model')\n",
    "plt.xlabel('x --->')\n",
    "plt.ylabel('y --->')\n",
    "plt.legend()\n",
    "\n",
    "\n",
    "plt.show()"
   ]
  },
  {
   "cell_type": "code",
   "execution_count": 11,
   "metadata": {},
   "outputs": [
    {
     "data": {
      "image/png": "[encoded data removed]",
      "text/plain": [
       "<Figure size 1000x500 with 1 Axes>"
      ]
     },
     "metadata": {},
     "output_type": "display_data"
    }
   ],
   "source": [
    "#Plot 3:Residual Plot (Residual vs X)\n",
    "#Calculating residuals\n",
    "residuals = data['y'] - best_lin_reg.predict(x_train_poly)\n",
    "\n",
    "#Create a residual plot\n",
    "plt.figure(figsize=(10, 5))\n",
    "plt.scatter(data['x'], residuals, label='Residuals', color='green')\n",
    "plt.axhline(y=0, color='red', linestyle='--', label='Zero Residuals')\n",
    "plt.title('Residual Plot')\n",
    "plt.xlabel('x --->')\n",
    "plt.ylabel('Residuals --->')\n",
    "plt.legend()\n",
    "plt.grid(True)\n",
    "\n",
    "plt.show()"
   ]
  },
  {
   "cell_type": "markdown",
   "metadata": {},
   "source": [
    "#### Summary: \n",
    "- Polynomial degrees 2 and 3 are the best-fitting models for this dataset, with the lowest mean MSE values and relatively low variability. These models provide the best balance between model complexity and predictive accuracy. - Higher-degree models do not offer significant improvements in performance and can lead to overfitting, as indicated by their higher MSE values."
   ]
  },
  {
   "cell_type": "markdown",
   "metadata": {
    "id": "aMNw-qL6mKEH"
   },
   "source": [
    "## Q4) Bootstrap the following dataset (`n = 1000`) to obtain median and 95% CI (Confidence interval)for parameter estimates (slope and intercept) summarizing the relationship between `x` and `y_measured.` What happens with median parameter estimates when you examine `y` instead?"
   ]
  },
  {
   "cell_type": "code",
   "execution_count": 12,
   "metadata": {
    "id": "DJ11XwVw1qrm"
   },
   "outputs": [
    {
     "name": "stdout",
     "output_type": "stream",
     "text": [
      "Median Slope: 1.2393478546195176\n",
      "95% CI for Slope: [0.82452111 1.67057881]\n",
      "Median Intercept: -1.9067957220343121\n",
      "95% CI for Intercept: [-2.09829841 -1.71291474]\n"
     ]
    }
   ],
   "source": [
    "import numpy as np\n",
    "from numpy.random import default_rng\n",
    "import scipy.stats as stats\n",
    "\n",
    "rng = default_rng(seed=1)\n",
    "nobs = 1000\n",
    "x = rng.normal(size=nobs)\n",
    "y = x - 2 * x**2\n",
    "y_measured = y + rng.normal(size=nobs)\n",
    "\n",
    "n_bootstrap = 1000\n",
    "\n",
    "\n",
    "\n",
    "slopes = []\n",
    "intercepts = []\n",
    "\n",
    "\n",
    "for _ in range(n_bootstrap):\n",
    "    indices = np.random.choice(nobs, size=nobs, replace=True)\n",
    "    x_bootstrap = x[indices]\n",
    "    y_measured_bootstrap = y_measured[indices]\n",
    "\n",
    "   \n",
    "    slope, intercept, r_value, p_value, std_err = stats.linregress(x_bootstrap, y_measured_bootstrap)\n",
    "    \n",
    "    slopes.append(slope)\n",
    "    intercepts.append(intercept)\n",
    "\n",
    "\n",
    "median_slope = np.median(slopes)\n",
    "median_intercept = np.median(intercepts)\n",
    "\n",
    "\n",
    "ci_slope = np.percentile(slopes, [2.5, 97.5])\n",
    "ci_intercept = np.percentile(intercepts, [2.5, 97.5])\n",
    "\n",
    "print(f\"Median Slope: {median_slope}\")\n",
    "print(f\"95% CI for Slope: {ci_slope}\")\n",
    "print(f\"Median Intercept: {median_intercept}\")\n",
    "print(f\"95% CI for Intercept: {ci_intercept}\")"
   ]
  },
  {
   "cell_type": "markdown",
   "metadata": {},
   "source": [
    "#### What happens with median parameter estimates when you examine y instead?"
   ]
  },
  {
   "cell_type": "code",
   "execution_count": 13,
   "metadata": {},
   "outputs": [
    {
     "name": "stdout",
     "output_type": "stream",
     "text": [
      "Median Slope: 1.2130578179186766\n",
      "95% CI for Slope: [0.77988975 1.65772262]\n",
      "Median Intercept: -1.9348302308406191\n",
      "95% CI for Intercept: [-2.13211896 -1.75173931]\n"
     ]
    }
   ],
   "source": [
    "#'y' instead of 'y_measured'\n",
    "\n",
    "rng = default_rng(seed=1)\n",
    "nobs = 1000\n",
    "x = rng.normal(size=nobs)\n",
    "y = x - 2 * x**2\n",
    "n_bootstrap = 1000\n",
    "slopes = []\n",
    "intercepts = []\n",
    "\n",
    "for _ in range(n_bootstrap):\n",
    "    indices = np.random.choice(nobs, size=nobs, replace=True)\n",
    "    x_bootstrap = x[indices]\n",
    "    y_bootstrap = y[indices]  \n",
    "\n",
    "    slope, intercept, r_value, p_value, std_err = stats.linregress(x_bootstrap, y_bootstrap)\n",
    "\n",
    "    slopes.append(slope)\n",
    "    intercepts.append(intercept)\n",
    "\n",
    "median_slope = np.median(slopes)\n",
    "median_intercept = np.median(intercepts)\n",
    "\n",
    "ci_slope = np.percentile(slopes, [2.5, 97.5])\n",
    "ci_intercept = np.percentile(intercepts, [2.5, 97.5])\n",
    "\n",
    "print(f\"Median Slope: {median_slope}\")\n",
    "print(f\"95% CI for Slope: {ci_slope}\")\n",
    "print(f\"Median Intercept: {median_intercept}\")\n",
    "print(f\"95% CI for Intercept: {ci_intercept}\")"
   ]
  },
  {
   "cell_type": "markdown",
   "metadata": {
    "id": "_skayhIR2F7g"
   },
   "source": [
    "- When examine y, the median slope estimate is approximately 1.2131, and the 95% confidence interval for the slope is (0.77988975 1.65772262). This means that the median slope, which represents the change in y for a unit change in x, is around 1.2131. The confidence interval provides a range of plausible slope values.\n",
    "- The median intercept estimate is approximately -1.9348, and the 95% confidence interval for the intercept is (-2.1321, -1.7517). The intercept represents the value of y when x is zero. In this case, the median intercept estimate is approximately -1.9348.\n",
    "\n",
    "- All in all, I can see that there is a slight difference in the median parameter estimates when you examine y instead of y_measured. Specifically, the median slope is slightly lower, and the median intercept is slightly more negative when using the true relationship y. This suggests that the presence of measurement noise in y_measured has a slight impact on the median parameter estimates."
   ]
  },
  {
   "cell_type": "markdown",
   "metadata": {
    "id": "ddHcOis8CCoO"
   },
   "source": [
    "## Q5) We will predict the number of applications received using the other variables in the **College dataset.** Please load the relevant dataset first.\n"
   ]
  },
  {
   "cell_type": "markdown",
   "metadata": {
    "id": "musNGH4-p4lf"
   },
   "source": [
    "**Importing Libraries:**"
   ]
  },
  {
   "cell_type": "code",
   "execution_count": 14,
   "metadata": {
    "id": "zGevrqL04Lse"
   },
   "outputs": [],
   "source": [
    "import numpy as np\n",
    "import pandas as pd\n",
    "\n",
    "import statsmodels.api as sm\n",
    "\n",
    "import seaborn as sns\n",
    "import matplotlib.pyplot as plt\n",
    "from scipy import stats\n",
    "from statsmodels.stats.outliers_influence import OLSInfluence\n",
    "from scipy.optimize import fsolve\n",
    "from scipy.stats import t\n",
    "\n",
    "from sklearn.linear_model import LinearRegression\n",
    "from sklearn.preprocessing import PolynomialFeatures\n",
    "from sklearn.model_selection import train_test_split\n",
    "from sklearn.metrics import mean_squared_error\n",
    "\n",
    "import warnings\n",
    "warnings.filterwarnings('ignore')\n",
    "\n",
    "from statsmodels.graphics.regressionplots import plot_fit"
   ]
  },
  {
   "cell_type": "markdown",
   "metadata": {
    "id": "hKnFyjcjpxm6"
   },
   "source": [
    "**Loading dataset:**"
   ]
  },
  {
   "cell_type": "code",
   "execution_count": 15,
   "metadata": {
    "id": "6-sWON49nV7D"
   },
   "outputs": [
    {
     "data": {
      "text/html": [
       "<div>\n",
       "<style scoped>\n",
       "    .dataframe tbody tr th:only-of-type {\n",
       "        vertical-align: middle;\n",
       "    }\n",
       "\n",
       "    .dataframe tbody tr th {\n",
       "        vertical-align: top;\n",
       "    }\n",
       "\n",
       "    .dataframe thead th {\n",
       "        text-align: right;\n",
       "    }\n",
       "</style>\n",
       "<table border=\"1\" class=\"dataframe\">\n",
       "  <thead>\n",
       "    <tr style=\"text-align: right;\">\n",
       "      <th></th>\n",
       "      <th>private</th>\n",
       "      <th>apps</th>\n",
       "      <th>accept</th>\n",
       "      <th>enroll</th>\n",
       "      <th>top10perc</th>\n",
       "      <th>top25perc</th>\n",
       "      <th>f_undergrad</th>\n",
       "      <th>p_undergrad</th>\n",
       "      <th>outstate</th>\n",
       "      <th>room_board</th>\n",
       "      <th>books</th>\n",
       "      <th>personal</th>\n",
       "      <th>phd</th>\n",
       "      <th>terminal</th>\n",
       "      <th>s_f_ratio</th>\n",
       "      <th>perc_alumni</th>\n",
       "      <th>expend</th>\n",
       "      <th>grad_rate</th>\n",
       "    </tr>\n",
       "  </thead>\n",
       "  <tbody>\n",
       "    <tr>\n",
       "      <th>0</th>\n",
       "      <td>Yes</td>\n",
       "      <td>1660</td>\n",
       "      <td>1232</td>\n",
       "      <td>721</td>\n",
       "      <td>23</td>\n",
       "      <td>52</td>\n",
       "      <td>2885</td>\n",
       "      <td>537</td>\n",
       "      <td>7440</td>\n",
       "      <td>3300</td>\n",
       "      <td>450</td>\n",
       "      <td>2200</td>\n",
       "      <td>70</td>\n",
       "      <td>78</td>\n",
       "      <td>18.1</td>\n",
       "      <td>12</td>\n",
       "      <td>7041</td>\n",
       "      <td>60</td>\n",
       "    </tr>\n",
       "    <tr>\n",
       "      <th>1</th>\n",
       "      <td>Yes</td>\n",
       "      <td>2186</td>\n",
       "      <td>1924</td>\n",
       "      <td>512</td>\n",
       "      <td>16</td>\n",
       "      <td>29</td>\n",
       "      <td>2683</td>\n",
       "      <td>1227</td>\n",
       "      <td>12280</td>\n",
       "      <td>6450</td>\n",
       "      <td>750</td>\n",
       "      <td>1500</td>\n",
       "      <td>29</td>\n",
       "      <td>30</td>\n",
       "      <td>12.2</td>\n",
       "      <td>16</td>\n",
       "      <td>10527</td>\n",
       "      <td>56</td>\n",
       "    </tr>\n",
       "    <tr>\n",
       "      <th>2</th>\n",
       "      <td>Yes</td>\n",
       "      <td>1428</td>\n",
       "      <td>1097</td>\n",
       "      <td>336</td>\n",
       "      <td>22</td>\n",
       "      <td>50</td>\n",
       "      <td>1036</td>\n",
       "      <td>99</td>\n",
       "      <td>11250</td>\n",
       "      <td>3750</td>\n",
       "      <td>400</td>\n",
       "      <td>1165</td>\n",
       "      <td>53</td>\n",
       "      <td>66</td>\n",
       "      <td>12.9</td>\n",
       "      <td>30</td>\n",
       "      <td>8735</td>\n",
       "      <td>54</td>\n",
       "    </tr>\n",
       "    <tr>\n",
       "      <th>3</th>\n",
       "      <td>Yes</td>\n",
       "      <td>417</td>\n",
       "      <td>349</td>\n",
       "      <td>137</td>\n",
       "      <td>60</td>\n",
       "      <td>89</td>\n",
       "      <td>510</td>\n",
       "      <td>63</td>\n",
       "      <td>12960</td>\n",
       "      <td>5450</td>\n",
       "      <td>450</td>\n",
       "      <td>875</td>\n",
       "      <td>92</td>\n",
       "      <td>97</td>\n",
       "      <td>7.7</td>\n",
       "      <td>37</td>\n",
       "      <td>19016</td>\n",
       "      <td>59</td>\n",
       "    </tr>\n",
       "    <tr>\n",
       "      <th>4</th>\n",
       "      <td>Yes</td>\n",
       "      <td>193</td>\n",
       "      <td>146</td>\n",
       "      <td>55</td>\n",
       "      <td>16</td>\n",
       "      <td>44</td>\n",
       "      <td>249</td>\n",
       "      <td>869</td>\n",
       "      <td>7560</td>\n",
       "      <td>4120</td>\n",
       "      <td>800</td>\n",
       "      <td>1500</td>\n",
       "      <td>76</td>\n",
       "      <td>72</td>\n",
       "      <td>11.9</td>\n",
       "      <td>2</td>\n",
       "      <td>10922</td>\n",
       "      <td>15</td>\n",
       "    </tr>\n",
       "  </tbody>\n",
       "</table>\n",
       "</div>"
      ],
      "text/plain": [
       "  private  apps  accept  enroll  top10perc  top25perc  f_undergrad  \\\n",
       "0     Yes  1660    1232     721         23         52         2885   \n",
       "1     Yes  2186    1924     512         16         29         2683   \n",
       "2     Yes  1428    1097     336         22         50         1036   \n",
       "3     Yes   417     349     137         60         89          510   \n",
       "4     Yes   193     146      55         16         44          249   \n",
       "\n",
       "   p_undergrad  outstate  room_board  books  personal  phd  terminal  \\\n",
       "0          537      7440        3300    450      2200   70        78   \n",
       "1         1227     12280        6450    750      1500   29        30   \n",
       "2           99     11250        3750    400      1165   53        66   \n",
       "3           63     12960        5450    450       875   92        97   \n",
       "4          869      7560        4120    800      1500   76        72   \n",
       "\n",
       "   s_f_ratio  perc_alumni  expend  grad_rate  \n",
       "0       18.1           12    7041         60  \n",
       "1       12.2           16   10527         56  \n",
       "2       12.9           30    8735         54  \n",
       "3        7.7           37   19016         59  \n",
       "4       11.9            2   10922         15  "
      ]
     },
     "execution_count": 15,
     "metadata": {},
     "output_type": "execute_result"
    }
   ],
   "source": [
    "auto_data = pd.read_csv('/Users/virensasalu/Documents/coding/UOA Coding Files/Course 3/download week 2.csv') \n",
    "auto_data.head()"
   ]
  },
  {
   "cell_type": "code",
   "execution_count": 18,
   "metadata": {
    "id": "tcRA2D78fLxO"
   },
   "outputs": [
    {
     "name": "stdout",
     "output_type": "stream",
     "text": [
      "<class 'pandas.core.frame.DataFrame'>\n",
      "RangeIndex: 777 entries, 0 to 776\n",
      "Data columns (total 18 columns):\n",
      " #   Column       Non-Null Count  Dtype  \n",
      "---  ------       --------------  -----  \n",
      " 0   private      777 non-null    object \n",
      " 1   apps         777 non-null    int64  \n",
      " 2   accept       777 non-null    int64  \n",
      " 3   enroll       777 non-null    int64  \n",
      " 4   top10perc    777 non-null    int64  \n",
      " 5   top25perc    777 non-null    int64  \n",
      " 6   f_undergrad  777 non-null    int64  \n",
      " 7   p_undergrad  777 non-null    int64  \n",
      " 8   outstate     777 non-null    int64  \n",
      " 9   room_board   777 non-null    int64  \n",
      " 10  books        777 non-null    int64  \n",
      " 11  personal     777 non-null    int64  \n",
      " 12  phd          777 non-null    int64  \n",
      " 13  terminal     777 non-null    int64  \n",
      " 14  s_f_ratio    777 non-null    float64\n",
      " 15  perc_alumni  777 non-null    int64  \n",
      " 16  expend       777 non-null    int64  \n",
      " 17  grad_rate    777 non-null    int64  \n",
      "dtypes: float64(1), int64(16), object(1)\n",
      "memory usage: 109.4+ KB\n"
     ]
    },
    {
     "data": {
      "text/html": [
       "<div>\n",
       "<style scoped>\n",
       "    .dataframe tbody tr th:only-of-type {\n",
       "        vertical-align: middle;\n",
       "    }\n",
       "\n",
       "    .dataframe tbody tr th {\n",
       "        vertical-align: top;\n",
       "    }\n",
       "\n",
       "    .dataframe thead th {\n",
       "        text-align: right;\n",
       "    }\n",
       "</style>\n",
       "<table border=\"1\" class=\"dataframe\">\n",
       "  <thead>\n",
       "    <tr style=\"text-align: right;\">\n",
       "      <th></th>\n",
       "      <th>private</th>\n",
       "      <th>apps</th>\n",
       "      <th>accept</th>\n",
       "      <th>enroll</th>\n",
       "      <th>top10perc</th>\n",
       "      <th>top25perc</th>\n",
       "      <th>f_undergrad</th>\n",
       "      <th>p_undergrad</th>\n",
       "      <th>outstate</th>\n",
       "      <th>room_board</th>\n",
       "      <th>books</th>\n",
       "      <th>personal</th>\n",
       "      <th>phd</th>\n",
       "      <th>terminal</th>\n",
       "      <th>s_f_ratio</th>\n",
       "      <th>perc_alumni</th>\n",
       "      <th>expend</th>\n",
       "      <th>grad_rate</th>\n",
       "    </tr>\n",
       "  </thead>\n",
       "  <tbody>\n",
       "    <tr>\n",
       "      <th>0</th>\n",
       "      <td>False</td>\n",
       "      <td>False</td>\n",
       "      <td>False</td>\n",
       "      <td>False</td>\n",
       "      <td>False</td>\n",
       "      <td>False</td>\n",
       "      <td>False</td>\n",
       "      <td>False</td>\n",
       "      <td>False</td>\n",
       "      <td>False</td>\n",
       "      <td>False</td>\n",
       "      <td>False</td>\n",
       "      <td>False</td>\n",
       "      <td>False</td>\n",
       "      <td>False</td>\n",
       "      <td>False</td>\n",
       "      <td>False</td>\n",
       "      <td>False</td>\n",
       "    </tr>\n",
       "    <tr>\n",
       "      <th>1</th>\n",
       "      <td>False</td>\n",
       "      <td>False</td>\n",
       "      <td>False</td>\n",
       "      <td>False</td>\n",
       "      <td>False</td>\n",
       "      <td>False</td>\n",
       "      <td>False</td>\n",
       "      <td>False</td>\n",
       "      <td>False</td>\n",
       "      <td>False</td>\n",
       "      <td>False</td>\n",
       "      <td>False</td>\n",
       "      <td>False</td>\n",
       "      <td>False</td>\n",
       "      <td>False</td>\n",
       "      <td>False</td>\n",
       "      <td>False</td>\n",
       "      <td>False</td>\n",
       "    </tr>\n",
       "    <tr>\n",
       "      <th>2</th>\n",
       "      <td>False</td>\n",
       "      <td>False</td>\n",
       "      <td>False</td>\n",
       "      <td>False</td>\n",
       "      <td>False</td>\n",
       "      <td>False</td>\n",
       "      <td>False</td>\n",
       "      <td>False</td>\n",
       "      <td>False</td>\n",
       "      <td>False</td>\n",
       "      <td>False</td>\n",
       "      <td>False</td>\n",
       "      <td>False</td>\n",
       "      <td>False</td>\n",
       "      <td>False</td>\n",
       "      <td>False</td>\n",
       "      <td>False</td>\n",
       "      <td>False</td>\n",
       "    </tr>\n",
       "    <tr>\n",
       "      <th>3</th>\n",
       "      <td>False</td>\n",
       "      <td>False</td>\n",
       "      <td>False</td>\n",
       "      <td>False</td>\n",
       "      <td>False</td>\n",
       "      <td>False</td>\n",
       "      <td>False</td>\n",
       "      <td>False</td>\n",
       "      <td>False</td>\n",
       "      <td>False</td>\n",
       "      <td>False</td>\n",
       "      <td>False</td>\n",
       "      <td>False</td>\n",
       "      <td>False</td>\n",
       "      <td>False</td>\n",
       "      <td>False</td>\n",
       "      <td>False</td>\n",
       "      <td>False</td>\n",
       "    </tr>\n",
       "    <tr>\n",
       "      <th>4</th>\n",
       "      <td>False</td>\n",
       "      <td>False</td>\n",
       "      <td>False</td>\n",
       "      <td>False</td>\n",
       "      <td>False</td>\n",
       "      <td>False</td>\n",
       "      <td>False</td>\n",
       "      <td>False</td>\n",
       "      <td>False</td>\n",
       "      <td>False</td>\n",
       "      <td>False</td>\n",
       "      <td>False</td>\n",
       "      <td>False</td>\n",
       "      <td>False</td>\n",
       "      <td>False</td>\n",
       "      <td>False</td>\n",
       "      <td>False</td>\n",
       "      <td>False</td>\n",
       "    </tr>\n",
       "  </tbody>\n",
       "</table>\n",
       "</div>"
      ],
      "text/plain": [
       "   private   apps  accept  enroll  top10perc  top25perc  f_undergrad  \\\n",
       "0    False  False   False   False      False      False        False   \n",
       "1    False  False   False   False      False      False        False   \n",
       "2    False  False   False   False      False      False        False   \n",
       "3    False  False   False   False      False      False        False   \n",
       "4    False  False   False   False      False      False        False   \n",
       "\n",
       "   p_undergrad  outstate  room_board  books  personal    phd  terminal  \\\n",
       "0        False     False       False  False     False  False     False   \n",
       "1        False     False       False  False     False  False     False   \n",
       "2        False     False       False  False     False  False     False   \n",
       "3        False     False       False  False     False  False     False   \n",
       "4        False     False       False  False     False  False     False   \n",
       "\n",
       "   s_f_ratio  perc_alumni  expend  grad_rate  \n",
       "0      False        False   False      False  \n",
       "1      False        False   False      False  \n",
       "2      False        False   False      False  \n",
       "3      False        False   False      False  \n",
       "4      False        False   False      False  "
      ]
     },
     "execution_count": 18,
     "metadata": {},
     "output_type": "execute_result"
    }
   ],
   "source": [
    "#PERFORM PRE PROCESSING OF DATA IF REQUIRED ( OBSERVE THE DATASET AND ITS VALUES CAREFULLY)\n",
    "\n",
    "PreProcessedData = auto_data.copy()\n",
    "\n",
    "PreProcessedData.info()\n",
    "summary = PreProcessedData.describe()\n",
    "#print(summary)\n",
    "missing_data = PreProcessedData.isnull()\n",
    "missing_data.head()"
   ]
  },
  {
   "cell_type": "markdown",
   "metadata": {},
   "source": [
    "#### There appears to be no missing data."
   ]
  },
  {
   "cell_type": "markdown",
   "metadata": {
    "id": "jbzD19JRCPcq"
   },
   "source": [
    "### a) Split the data set into a training set and a test set."
   ]
  },
  {
   "cell_type": "code",
   "execution_count": 19,
   "metadata": {
    "id": "z2VPQlRTEFSx"
   },
   "outputs": [],
   "source": [
    "#Since I am predicting the numbver of application using other varibles \n",
    "y = PreProcessedData['apps']\n",
    "\n",
    "#I decided to use all the attiributes but, private.\n",
    "X = PreProcessedData.drop(columns=['private', 'apps'])\n",
    "\n",
    "X_train, X_test, y_train, y_test = train_test_split(X, y, test_size=0.2, random_state=42)"
   ]
  },
  {
   "cell_type": "markdown",
   "metadata": {
    "id": "edftCrWqf5uC"
   },
   "source": [
    "### b) Fit a linear model using least squares on the training set, and report the test error obtained.\n",
    "Link to linear model: https://scikit-learn.org/stable/modules/generated/sklearn.linear_model.LinearRegression.html\n"
   ]
  },
  {
   "cell_type": "code",
   "execution_count": 20,
   "metadata": {
    "id": "3Bob99XBf2p7"
   },
   "outputs": [
    {
     "name": "stdout",
     "output_type": "stream",
     "text": [
      "Mean Squared Error: 1442624.9143528766\n"
     ]
    }
   ],
   "source": [
    "model = LinearRegression()\n",
    "model.fit(X_train, y_train)\n",
    "y_pred = model.predict(X_test)\n",
    "mse = mean_squared_error(y_test, y_pred)\n",
    "#rmse = np.sqrt(mse)\n",
    "print(f\"Mean Squared Error: {mse}\")\n",
    "#print(f\"Root Mean Squared Error: {rmse}\")"
   ]
  },
  {
   "cell_type": "markdown",
   "metadata": {
    "id": "pdea7OyMhAw6"
   },
   "source": [
    "### c) Fit a ridge regression model on the training set, with $\\lambda$ chosen by cross-validation. Report the test error obtained.\n",
    "\n",
    "Link to ridge regresion : https://scikit-learn.org/stable/modules/generated/sklearn.linear_model.Ridge.html"
   ]
  },
  {
   "cell_type": "code",
   "execution_count": 21,
   "metadata": {
    "id": "_tl5cegudy_Q"
   },
   "outputs": [
    {
     "name": "stdout",
     "output_type": "stream",
     "text": [
      "Mean Squared Error for Ridge Regression: 1442638.1897619958\n"
     ]
    }
   ],
   "source": [
    "#I used RidgeCV to fit  ridge regression by choosing alpha by cross validation\n",
    "from sklearn.linear_model import RidgeCV\n",
    "alphas = [0.1, 1.0, 10.0]  \n",
    "ridge_cv = RidgeCV(alphas=alphas, store_cv_values=True) \n",
    "\n",
    "ridge_cv.fit(X_train, y_train)  \n",
    "best_alpha = ridge_cv.alpha_\n",
    "y_pred = ridge_cv.predict(X_test)\n",
    "mse = mean_squared_error(y_test, y_pred)\n",
    "print(f\"Mean Squared Error for Ridge Regression: {mse}\")"
   ]
  },
  {
   "cell_type": "markdown",
   "metadata": {
    "id": "Q-Y4EBqihWnB"
   },
   "source": [
    "### d) Fit a lasso model on the training set, with $\\lambda$ chosen by cross-validation. Report the test error obtained, along with the number of non-zero coefficient estimates.\n",
    " Link to lasso :https://scikit-learn.org/0.15/modules/generated/sklearn.linear_model.Lasso.html"
   ]
  },
  {
   "cell_type": "code",
   "execution_count": 22,
   "metadata": {
    "id": "FA-uxEgIgOwL"
   },
   "outputs": [
    {
     "name": "stdout",
     "output_type": "stream",
     "text": [
      "Mean Squared Error for Lasso: 1442624.9847535887\n",
      "Number of Non-Zero Coefficients: 16\n"
     ]
    }
   ],
   "source": [
    "from sklearn.linear_model import LassoCV\n",
    "\n",
    "lasso_cv = LassoCV(alphas=[0.01, 0.1, 1.0])  # Adjust the alphas as needed\n",
    "lasso_cv.fit(X_train, y_train)\n",
    "y_pred = lasso_cv.predict(X_test)\n",
    "mse = mean_squared_error(y_test, y_pred)\n",
    "nonzerocoefficients = np.sum(lasso_cv.coef_ != 0)\n",
    "\n",
    "print(f\"Mean Squared Error for Lasso: {mse}\")\n",
    "print(f\"Number of Non-Zero Coefficients: {nonzerocoefficients}\")"
   ]
  }
 ],
 "metadata": {
  "colab": {
   "provenance": []
  },
  "kernelspec": {
   "display_name": "Python 3 (ipykernel)",
   "language": "python",
   "name": "python3"
  },
  "language_info": {
   "codemirror_mode": {
    "name": "ipython",
    "version": 3
   },
   "file_extension": ".py",
   "mimetype": "text/x-python",
   "name": "python",
   "nbconvert_exporter": "python",
   "pygments_lexer": "ipython3",
   "version": "3.10.13"
  }
 },
 "nbformat": 4,
 "nbformat_minor": 1
}
